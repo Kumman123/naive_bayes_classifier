{
 "cells": [
  {
   "cell_type": "code",
   "execution_count": 3,
   "id": "1cbfe95f",
   "metadata": {},
   "outputs": [],
   "source": [
    "import numpy as np # linear algebra\n",
    "import pandas as pd # data processing, CSV file I/O (e.g. pd.read_csv)\n",
    "import matplotlib.pyplot as plt\n",
    "import seaborn as sns\n"
   ]
  },
  {
   "cell_type": "code",
   "execution_count": 4,
   "id": "010454e8",
   "metadata": {},
   "outputs": [],
   "source": [
    "data = pd.read_csv(\"haberman.csv\")"
   ]
  },
  {
   "cell_type": "code",
   "execution_count": 5,
   "id": "c2314321",
   "metadata": {},
   "outputs": [
    {
     "data": {
      "text/html": [
       "<div>\n",
       "<style scoped>\n",
       "    .dataframe tbody tr th:only-of-type {\n",
       "        vertical-align: middle;\n",
       "    }\n",
       "\n",
       "    .dataframe tbody tr th {\n",
       "        vertical-align: top;\n",
       "    }\n",
       "\n",
       "    .dataframe thead th {\n",
       "        text-align: right;\n",
       "    }\n",
       "</style>\n",
       "<table border=\"1\" class=\"dataframe\">\n",
       "  <thead>\n",
       "    <tr style=\"text-align: right;\">\n",
       "      <th></th>\n",
       "      <th>Age</th>\n",
       "      <th>Year</th>\n",
       "      <th>Positive</th>\n",
       "      <th>Survival</th>\n",
       "    </tr>\n",
       "  </thead>\n",
       "  <tbody>\n",
       "    <tr>\n",
       "      <th>0</th>\n",
       "      <td>38</td>\n",
       "      <td>59</td>\n",
       "      <td>2</td>\n",
       "      <td>negative</td>\n",
       "    </tr>\n",
       "    <tr>\n",
       "      <th>1</th>\n",
       "      <td>39</td>\n",
       "      <td>63</td>\n",
       "      <td>4</td>\n",
       "      <td>negative</td>\n",
       "    </tr>\n",
       "    <tr>\n",
       "      <th>2</th>\n",
       "      <td>49</td>\n",
       "      <td>62</td>\n",
       "      <td>1</td>\n",
       "      <td>negative</td>\n",
       "    </tr>\n",
       "    <tr>\n",
       "      <th>3</th>\n",
       "      <td>53</td>\n",
       "      <td>60</td>\n",
       "      <td>2</td>\n",
       "      <td>negative</td>\n",
       "    </tr>\n",
       "    <tr>\n",
       "      <th>4</th>\n",
       "      <td>47</td>\n",
       "      <td>68</td>\n",
       "      <td>4</td>\n",
       "      <td>negative</td>\n",
       "    </tr>\n",
       "    <tr>\n",
       "      <th>...</th>\n",
       "      <td>...</td>\n",
       "      <td>...</td>\n",
       "      <td>...</td>\n",
       "      <td>...</td>\n",
       "    </tr>\n",
       "    <tr>\n",
       "      <th>301</th>\n",
       "      <td>57</td>\n",
       "      <td>64</td>\n",
       "      <td>1</td>\n",
       "      <td>positive</td>\n",
       "    </tr>\n",
       "    <tr>\n",
       "      <th>302</th>\n",
       "      <td>63</td>\n",
       "      <td>62</td>\n",
       "      <td>0</td>\n",
       "      <td>negative</td>\n",
       "    </tr>\n",
       "    <tr>\n",
       "      <th>303</th>\n",
       "      <td>42</td>\n",
       "      <td>61</td>\n",
       "      <td>4</td>\n",
       "      <td>negative</td>\n",
       "    </tr>\n",
       "    <tr>\n",
       "      <th>304</th>\n",
       "      <td>43</td>\n",
       "      <td>64</td>\n",
       "      <td>2</td>\n",
       "      <td>negative</td>\n",
       "    </tr>\n",
       "    <tr>\n",
       "      <th>305</th>\n",
       "      <td>52</td>\n",
       "      <td>66</td>\n",
       "      <td>4</td>\n",
       "      <td>positive</td>\n",
       "    </tr>\n",
       "  </tbody>\n",
       "</table>\n",
       "<p>306 rows × 4 columns</p>\n",
       "</div>"
      ],
      "text/plain": [
       "     Age   Year   Positive   Survival\n",
       "0     38     59          2   negative\n",
       "1     39     63          4   negative\n",
       "2     49     62          1   negative\n",
       "3     53     60          2   negative\n",
       "4     47     68          4   negative\n",
       "..   ...    ...        ...        ...\n",
       "301   57     64          1   positive\n",
       "302   63     62          0   negative\n",
       "303   42     61          4   negative\n",
       "304   43     64          2   negative\n",
       "305   52     66          4   positive\n",
       "\n",
       "[306 rows x 4 columns]"
      ]
     },
     "execution_count": 5,
     "metadata": {},
     "output_type": "execute_result"
    }
   ],
   "source": [
    "data"
   ]
  },
  {
   "cell_type": "code",
   "execution_count": 6,
   "id": "17f8633c",
   "metadata": {},
   "outputs": [
    {
     "data": {
      "text/plain": [
       "Index(['Age', ' Year', ' Positive', 'Survival'], dtype='object')"
      ]
     },
     "execution_count": 6,
     "metadata": {},
     "output_type": "execute_result"
    }
   ],
   "source": [
    "data.columns\n"
   ]
  },
  {
   "cell_type": "code",
   "execution_count": 7,
   "id": "d7f638f0",
   "metadata": {},
   "outputs": [],
   "source": [
    "from sklearn.model_selection import train_test_split"
   ]
  },
  {
   "cell_type": "code",
   "execution_count": 8,
   "id": "a8731a16",
   "metadata": {},
   "outputs": [],
   "source": [
    "X = data.iloc[:, :-1].values  # All columns except the last one\n",
    "y = data.iloc[:, -1].values  #'Survival'"
   ]
  },
  {
   "cell_type": "code",
   "execution_count": 9,
   "id": "97038bef",
   "metadata": {},
   "outputs": [],
   "source": [
    "X_train ,X_test , y_train , y_test = train_test_split(X , y , test_size = 0.2)\n"
   ]
  },
  {
   "cell_type": "code",
   "execution_count": 10,
   "id": "75d43fc7",
   "metadata": {},
   "outputs": [],
   "source": [
    "from sklearn.naive_bayes import GaussianNB  "
   ]
  },
  {
   "cell_type": "code",
   "execution_count": 11,
   "id": "f192f010",
   "metadata": {},
   "outputs": [],
   "source": [
    "model = GaussianNB()"
   ]
  },
  {
   "cell_type": "code",
   "execution_count": 12,
   "id": "e3fa36dd",
   "metadata": {},
   "outputs": [
    {
     "data": {
      "text/plain": [
       "GaussianNB()"
      ]
     },
     "execution_count": 12,
     "metadata": {},
     "output_type": "execute_result"
    }
   ],
   "source": [
    "model.fit(X_train , y_train)"
   ]
  },
  {
   "cell_type": "code",
   "execution_count": 13,
   "id": "5505f003",
   "metadata": {},
   "outputs": [],
   "source": [
    "y_pred = model.predict(X_test)"
   ]
  },
  {
   "cell_type": "code",
   "execution_count": 14,
   "id": "361c5599",
   "metadata": {},
   "outputs": [],
   "source": [
    "from sklearn.metrics import accuracy_score, confusion_matrix, classification_report, precision_score, recall_score,f1_score"
   ]
  },
  {
   "cell_type": "code",
   "execution_count": 15,
   "id": "cb59c99b",
   "metadata": {},
   "outputs": [],
   "source": [
    "class_report= classification_report(y_test,y_pred)"
   ]
  },
  {
   "cell_type": "code",
   "execution_count": 16,
   "id": "9f363857",
   "metadata": {},
   "outputs": [
    {
     "name": "stdout",
     "output_type": "stream",
     "text": [
      "              precision    recall  f1-score   support\n",
      "\n",
      "    negative       0.75      0.93      0.83        45\n",
      "    positive       0.50      0.18      0.26        17\n",
      "\n",
      "    accuracy                           0.73        62\n",
      "   macro avg       0.62      0.55      0.55        62\n",
      "weighted avg       0.68      0.73      0.68        62\n",
      "\n"
     ]
    }
   ],
   "source": [
    "print(class_report)"
   ]
  },
  {
   "cell_type": "code",
   "execution_count": 17,
   "id": "a7cb5458",
   "metadata": {},
   "outputs": [
    {
     "name": "stdout",
     "output_type": "stream",
     "text": [
      "Accuracy Scores for each fold:  [0.85483871 0.68852459 0.73770492 0.73770492 0.7704918 ]\n",
      "Mean Accuracy:  0.7578529878371233\n"
     ]
    }
   ],
   "source": [
    "# Importing necessary libraries\n",
    "import numpy as np\n",
    "import pandas as pd\n",
    "from sklearn.model_selection import train_test_split, KFold, cross_val_score\n",
    "from sklearn.naive_bayes import GaussianNB\n",
    "from sklearn.metrics import accuracy_score\n",
    "\n",
    "\n",
    "kf = KFold(n_splits=5, shuffle=True, random_state=42)  # Using 5-Fold Cross Validation\n",
    "\n",
    "gnb = GaussianNB()\n",
    "\n",
    "scores = cross_val_score(gnb, X, y, cv=kf, scoring='accuracy')\n",
    "\n",
    "print(\"Accuracy Scores for each fold: \", scores)\n",
    "print(\"Mean Accuracy: \", np.mean(scores))\n",
    "\n"
   ]
  },
  {
   "cell_type": "code",
   "execution_count": 18,
   "id": "84cdf9e0",
   "metadata": {
    "scrolled": true
   },
   "outputs": [
    {
     "name": "stdout",
     "output_type": "stream",
     "text": [
      "Fold 1 Accuracy: 0.7742\n",
      "Fold 2 Accuracy: 0.7049\n",
      "Fold 3 Accuracy: 0.7213\n",
      "Fold 4 Accuracy: 0.7869\n",
      "Fold 5 Accuracy: 0.7705\n",
      "\n",
      "Average Accuracy across 5 folds: 0.751560021152829\n",
      "Best Accuracy achieved on Fold 4 : 0.7868852459016393\n"
     ]
    }
   ],
   "source": [
    "import pandas as pd\n",
    "from sklearn.naive_bayes import GaussianNB\n",
    "from sklearn.metrics import accuracy_score\n",
    "import numpy as np\n",
    "\n",
    "\n",
    "train_files = ['haberman-5-1tra.csv', 'haberman-5-2tra.csv', 'haberman-5-3tra.csv', 'haberman-5-4tra.csv', 'haberman-5-5tra.csv']\n",
    "test_files = ['haberman-5-1tst.csv', 'haberman-5-2tst.csv', 'haberman-5-3tst.csv', 'haberman-5-4tst.csv', 'haberman-5-5tst.csv']\n",
    "\n",
    "accuracy_scores = []\n",
    "\n",
    "# Loop over each fold\n",
    "for i in range(5):\n",
    "   \n",
    "    train_data = pd.read_csv(train_files[i])\n",
    "    test_data = pd.read_csv(test_files[i])\n",
    "\n",
    "   \n",
    "    X_train = train_data[['Age', ' Year', ' Positive']].values\n",
    "    y_train = train_data['Survival'].values\n",
    "    X_test = test_data[['Age', ' Year', ' Positive']].values\n",
    "    y_test = test_data['Survival'].values\n",
    "\n",
    "   \n",
    "    model = GaussianNB()\n",
    "    model.fit(X_train, y_train)\n",
    "\n",
    "  \n",
    "    y_pred = model.predict(X_test)\n",
    "\n",
    "  \n",
    "    accuracy = accuracy_score(y_test, y_pred)\n",
    "    accuracy_scores.append(accuracy)\n",
    "\n",
    "    print(f'Fold {i+1} Accuracy: {accuracy:.4f}')\n",
    "\n",
    "\n",
    "mean_accuracy = np.mean(accuracy_scores)\n",
    "best_accuracy = max(accuracy_scores)\n",
    "best_fold = accuracy_scores.index(best_accuracy) + 1\n",
    "\n",
    "print(\"\\nAverage Accuracy across 5 folds:\", mean_accuracy)\n",
    "print(\"Best Accuracy achieved on Fold\", best_fold, \":\", best_accuracy)\n"
   ]
  },
  {
   "cell_type": "code",
   "execution_count": 19,
   "id": "9d1b141b",
   "metadata": {},
   "outputs": [
    {
     "name": "stdout",
     "output_type": "stream",
     "text": [
      "Index(['Age', ' Year', ' Positive', 'Survival'], dtype='object')\n"
     ]
    }
   ],
   "source": [
    "\n",
    "train_data = pd.read_csv(train_files[0])\n",
    "print(train_data.columns)\n"
   ]
  },
  {
   "cell_type": "code",
   "execution_count": 20,
   "id": "d6d1f4d1",
   "metadata": {},
   "outputs": [
    {
     "name": "stdout",
     "output_type": "stream",
     "text": [
      "Index(['Age', ' Year', ' Positive', 'Survival'], dtype='object')\n"
     ]
    }
   ],
   "source": [
    "\n",
    "print(train_data.columns)\n"
   ]
  },
  {
   "cell_type": "code",
   "execution_count": 21,
   "id": "d882e3d4",
   "metadata": {},
   "outputs": [
    {
     "name": "stdout",
     "output_type": "stream",
     "text": [
      "Accuracy Scores for each fold:  [0.85483871 0.68852459 0.73770492 0.73770492 0.7704918 ]\n",
      "Mean Accuracy:  0.7578529878371233\n",
      "Standard Deviation of Accuracy:  0.05510768740250651\n"
     ]
    }
   ],
   "source": [
    "\n",
    "import numpy as np\n",
    "import pandas as pd\n",
    "from sklearn.model_selection import train_test_split, KFold, cross_val_score\n",
    "from sklearn.naive_bayes import GaussianNB\n",
    "from sklearn.metrics import accuracy_score\n",
    "\n",
    "\n",
    "\n",
    "X = data.iloc[:, :-1] # Independent variables\n",
    "y = data.iloc[:, -1]  # Dependent variable (Survival_Status)\n",
    "\n",
    "\n",
    "kf = KFold(n_splits=5, shuffle=True, random_state=42)  # Using 5-Fold Cross Validation\n",
    "\n",
    "gnb = GaussianNB()\n",
    "\n",
    "\n",
    "scores = cross_val_score(gnb, X, y, cv=kf, scoring='accuracy')\n",
    "\n",
    "\n",
    "print(\"Accuracy Scores for each fold: \", scores)\n",
    "print(\"Mean Accuracy: \", np.mean(scores))\n",
    "print(\"Standard Deviation of Accuracy: \", np.std(scores))\n"
   ]
  },
  {
   "cell_type": "code",
   "execution_count": 22,
   "id": "9bb1729c",
   "metadata": {},
   "outputs": [
    {
     "name": "stdout",
     "output_type": "stream",
     "text": [
      "Accuracy for each fold using separate train/test files:\n",
      "Fold 1 Accuracy: 0.7742\n",
      "Classification Report for Fold 1:\n",
      "\n",
      "              precision    recall  f1-score   support\n",
      "\n",
      "    negative       0.78      0.96      0.86        45\n",
      "    positive       0.71      0.29      0.42        17\n",
      "\n",
      "    accuracy                           0.77        62\n",
      "   macro avg       0.75      0.62      0.64        62\n",
      "weighted avg       0.76      0.77      0.74        62\n",
      "\n",
      "Fold 2 Accuracy: 0.7049\n",
      "Classification Report for Fold 2:\n",
      "\n",
      "              precision    recall  f1-score   support\n",
      "\n",
      "    negative       0.75      0.91      0.82        45\n",
      "    positive       0.33      0.12      0.18        16\n",
      "\n",
      "    accuracy                           0.70        61\n",
      "   macro avg       0.54      0.52      0.50        61\n",
      "weighted avg       0.64      0.70      0.65        61\n",
      "\n",
      "Fold 3 Accuracy: 0.7213\n",
      "Classification Report for Fold 3:\n",
      "\n",
      "              precision    recall  f1-score   support\n",
      "\n",
      "    negative       0.74      0.96      0.83        45\n",
      "    positive       0.33      0.06      0.11        16\n",
      "\n",
      "    accuracy                           0.72        61\n",
      "   macro avg       0.54      0.51      0.47        61\n",
      "weighted avg       0.63      0.72      0.64        61\n",
      "\n",
      "Fold 4 Accuracy: 0.7869\n",
      "Classification Report for Fold 4:\n",
      "\n",
      "              precision    recall  f1-score   support\n",
      "\n",
      "    negative       0.79      0.98      0.87        45\n",
      "    positive       0.80      0.25      0.38        16\n",
      "\n",
      "    accuracy                           0.79        61\n",
      "   macro avg       0.79      0.61      0.63        61\n",
      "weighted avg       0.79      0.79      0.74        61\n",
      "\n",
      "Fold 5 Accuracy: 0.7705\n",
      "Classification Report for Fold 5:\n",
      "\n",
      "              precision    recall  f1-score   support\n",
      "\n",
      "    negative       0.78      0.96      0.86        45\n",
      "    positive       0.67      0.25      0.36        16\n",
      "\n",
      "    accuracy                           0.77        61\n",
      "   macro avg       0.72      0.60      0.61        61\n",
      "weighted avg       0.75      0.77      0.73        61\n",
      "\n",
      "\n",
      "Average Accuracy across 5 folds: 0.751560021152829\n",
      "Best Accuracy achieved on Fold 4 : 0.7868852459016393\n"
     ]
    }
   ],
   "source": [
    "import numpy as np\n",
    "import pandas as pd\n",
    "from sklearn.naive_bayes import GaussianNB\n",
    "from sklearn.metrics import accuracy_score, classification_report\n",
    "\n",
    "\n",
    "train_files = ['haberman-5-1tra.csv', 'haberman-5-2tra.csv', 'haberman-5-3tra.csv', 'haberman-5-4tra.csv', 'haberman-5-5tra.csv']\n",
    "test_files = ['haberman-5-1tst.csv', 'haberman-5-2tst.csv', 'haberman-5-3tst.csv', 'haberman-5-4tst.csv', 'haberman-5-5tst.csv']\n",
    "\n",
    "accuracy_scores = []\n",
    "\n",
    "\n",
    "print(\"Accuracy for each fold using separate train/test files:\")\n",
    "\n",
    "for i in range(5):\n",
    "   \n",
    "    train_data = pd.read_csv(train_files[i])\n",
    "    test_data = pd.read_csv(test_files[i])\n",
    "\n",
    "    # Separate features (X) and target (y) for both train and test sets\n",
    "    X_train = train_data[['Age', ' Year', ' Positive']].values  # Features: Age, Year, Positive\n",
    "    y_train = train_data['Survival'].values  # Target: Survival\n",
    "    X_test = test_data[['Age', ' Year', ' Positive']].values  # Test Features\n",
    "    y_test = test_data['Survival'].values  # Test Target\n",
    "\n",
    "    # Naive Bayes model\n",
    "    model = GaussianNB()\n",
    "\n",
    "\n",
    "    model.fit(X_train, y_train)\n",
    "\n",
    "   \n",
    "    y_pred = model.predict(X_test)\n",
    "\n",
    "    # Calculate accuracy for the current fold\n",
    "    accuracy = accuracy_score(y_test, y_pred)\n",
    "    accuracy_scores.append(accuracy)\n",
    "\n",
    "    print(f'Fold {i+1} Accuracy: {accuracy:.4f}')\n",
    "    \n",
    "    # Optionally, print classification report for each fold\n",
    "    print(f'Classification Report for Fold {i+1}:\\n')\n",
    "    print(classification_report(y_test, y_pred))\n",
    "\n",
    "# Calculate mean accuracy and best fold accuracy\n",
    "mean_accuracy = np.mean(accuracy_scores)\n",
    "best_accuracy = max(accuracy_scores)\n",
    "best_fold = accuracy_scores.index(best_accuracy) + 1\n",
    "\n",
    "# Print summary of results\n",
    "print(\"\\nAverage Accuracy across 5 folds:\", mean_accuracy)\n",
    "print(\"Best Accuracy achieved on Fold\", best_fold, \":\", best_accuracy)\n"
   ]
  },
  {
   "cell_type": "code",
   "execution_count": 23,
   "id": "d86df762",
   "metadata": {},
   "outputs": [
    {
     "name": "stdout",
     "output_type": "stream",
     "text": [
      "Fold 1 Accuracy: 0.7581\n",
      "Fold 2 Accuracy: 0.7049\n",
      "Fold 3 Accuracy: 0.7049\n",
      "Fold 4 Accuracy: 0.8033\n",
      "Fold 5 Accuracy: 0.7541\n",
      "\n",
      "Average Accuracy across 5 folds: 0.7450555261766261\n",
      "Best Accuracy achieved on Fold 4 : 0.8032786885245902\n"
     ]
    }
   ],
   "source": [
    "import pandas as pd\n",
    "from sklearn.naive_bayes import GaussianNB\n",
    "from sklearn.metrics import accuracy_score\n",
    "import numpy as np\n",
    "\n",
    "# Paths to your 5 train and 5 test files\n",
    "train_files = ['haberman-5-1tra.csv', 'haberman-5-2tra.csv', 'haberman-5-3tra.csv', 'haberman-5-4tra.csv', 'haberman-5-5tra.csv']\n",
    "test_files = ['haberman-5-1tst.csv', 'haberman-5-2tst.csv', 'haberman-5-3tst.csv', 'haberman-5-4tst.csv', 'haberman-5-5tst.csv']\n",
    "\n",
    "accuracy_scores = []\n",
    "\n",
    "# Loop over each fold\n",
    "for i in range(5):\n",
    "    # Prepare training data by combining 4 train files\n",
    "    X_train_combined = []\n",
    "    y_train_combined = []\n",
    "    \n",
    "    for j in range(5):\n",
    "        if i != j:  # Exclude the i-th test file for training\n",
    "            train_data = pd.read_csv(train_files[j])\n",
    "            X_train_combined.append(train_data[['Age', ' Year', ' Positive']].values)\n",
    "            y_train_combined.append(train_data['Survival'].values)\n",
    "    \n",
    "    # Combine the training data from the 4 folds into one array\n",
    "    X_train_combined = np.vstack(X_train_combined)\n",
    "    y_train_combined = np.hstack(y_train_combined)\n",
    "    \n",
    "    # Load the test data (the i-th test file)\n",
    "    test_data = pd.read_csv(test_files[i])\n",
    "    X_test = test_data[['Age', ' Year', ' Positive']].values\n",
    "    y_test = test_data['Survival'].values\n",
    "    \n",
    "    # Naive Bayes model\n",
    "    model = GaussianNB()\n",
    "    model.fit(X_train_combined, y_train_combined)\n",
    "    \n",
    "    # Predict on the test data\n",
    "    y_pred = model.predict(X_test)\n",
    "    \n",
    "    # Calculate accuracy for this fold\n",
    "    accuracy = accuracy_score(y_test, y_pred)\n",
    "    accuracy_scores.append(accuracy)\n",
    "    \n",
    "    print(f'Fold {i+1} Accuracy: {accuracy:.4f}')\n",
    "\n",
    "# Calculate mean accuracy across all folds\n",
    "mean_accuracy = np.mean(accuracy_scores)\n",
    "best_accuracy = max(accuracy_scores)\n",
    "best_fold = accuracy_scores.index(best_accuracy) + 1\n",
    "\n",
    "print(\"\\nAverage Accuracy across 5 folds:\", mean_accuracy)\n",
    "print(\"Best Accuracy achieved on Fold\", best_fold, \":\", best_accuracy)\n"
   ]
  },
  {
   "cell_type": "code",
   "execution_count": 24,
   "id": "18803571",
   "metadata": {},
   "outputs": [
    {
     "name": "stdout",
     "output_type": "stream",
     "text": [
      "\n",
      "--- Processing Fold 1 ---\n",
      "Fold 1 Accuracy: 0.7581\n",
      "Classification Report for Fold 1:\n",
      "              precision    recall  f1-score   support\n",
      "\n",
      "    negative       0.77      0.96      0.85        45\n",
      "    positive       0.67      0.24      0.35        17\n",
      "\n",
      "    accuracy                           0.76        62\n",
      "   macro avg       0.72      0.60      0.60        62\n",
      "weighted avg       0.74      0.76      0.71        62\n",
      "\n",
      "\n",
      "--- Processing Fold 2 ---\n",
      "Fold 2 Accuracy: 0.7049\n",
      "Classification Report for Fold 2:\n",
      "              precision    recall  f1-score   support\n",
      "\n",
      "    negative       0.75      0.91      0.82        45\n",
      "    positive       0.33      0.12      0.18        16\n",
      "\n",
      "    accuracy                           0.70        61\n",
      "   macro avg       0.54      0.52      0.50        61\n",
      "weighted avg       0.64      0.70      0.65        61\n",
      "\n",
      "\n",
      "--- Processing Fold 3 ---\n",
      "Fold 3 Accuracy: 0.7049\n",
      "Classification Report for Fold 3:\n",
      "              precision    recall  f1-score   support\n",
      "\n",
      "    negative       0.74      0.93      0.82        45\n",
      "    positive       0.25      0.06      0.10        16\n",
      "\n",
      "    accuracy                           0.70        61\n",
      "   macro avg       0.49      0.50      0.46        61\n",
      "weighted avg       0.61      0.70      0.63        61\n",
      "\n",
      "\n",
      "--- Processing Fold 4 ---\n",
      "Fold 4 Accuracy: 0.8033\n",
      "Classification Report for Fold 4:\n",
      "              precision    recall  f1-score   support\n",
      "\n",
      "    negative       0.81      0.96      0.88        45\n",
      "    positive       0.75      0.38      0.50        16\n",
      "\n",
      "    accuracy                           0.80        61\n",
      "   macro avg       0.78      0.67      0.69        61\n",
      "weighted avg       0.80      0.80      0.78        61\n",
      "\n",
      "\n",
      "--- Processing Fold 5 ---\n",
      "Fold 5 Accuracy: 0.7541\n",
      "Classification Report for Fold 5:\n",
      "              precision    recall  f1-score   support\n",
      "\n",
      "    negative       0.78      0.93      0.85        45\n",
      "    positive       0.57      0.25      0.35        16\n",
      "\n",
      "    accuracy                           0.75        61\n",
      "   macro avg       0.67      0.59      0.60        61\n",
      "weighted avg       0.72      0.75      0.72        61\n",
      "\n",
      "\n",
      "=== Cross-Validation Results ===\n",
      "Fold 1 Accuracy: 0.7581\n",
      "Fold 2 Accuracy: 0.7049\n",
      "Fold 3 Accuracy: 0.7049\n",
      "Fold 4 Accuracy: 0.8033\n",
      "Fold 5 Accuracy: 0.7541\n",
      "\n",
      "Average Accuracy across 5 folds: 0.7451\n",
      "Best Accuracy achieved on Fold 4: 0.8033\n",
      "\n",
      "=== Classification Report for Best Fold 4 ===\n",
      "              precision    recall  f1-score   support\n",
      "\n",
      "    negative       0.81      0.96      0.88        45\n",
      "    positive       0.75      0.38      0.50        16\n",
      "\n",
      "    accuracy                           0.80        61\n",
      "   macro avg       0.78      0.67      0.69        61\n",
      "weighted avg       0.80      0.80      0.78        61\n",
      "\n"
     ]
    }
   ],
   "source": [
    "import pandas as pd\n",
    "from sklearn.naive_bayes import GaussianNB\n",
    "from sklearn.metrics import accuracy_score, classification_report\n",
    "import numpy as np\n",
    "\n",
    "# Paths to your 5 train and 5 test files\n",
    "train_files = [\n",
    "    'haberman-5-1tra.csv',\n",
    "    'haberman-5-2tra.csv',\n",
    "    'haberman-5-3tra.csv',\n",
    "    'haberman-5-4tra.csv',\n",
    "    'haberman-5-5tra.csv'\n",
    "]\n",
    "test_files = [\n",
    "    'haberman-5-1tst.csv',\n",
    "    'haberman-5-2tst.csv',\n",
    "    'haberman-5-3tst.csv',\n",
    "    'haberman-5-4tst.csv',\n",
    "    'haberman-5-5tst.csv'\n",
    "]\n",
    "\n",
    "accuracy_scores = []\n",
    "classification_reports = []\n",
    "\n",
    "# Loop over each fold\n",
    "for i in range(5):\n",
    "    print(f\"\\n--- Processing Fold {i + 1} ---\")\n",
    "    \n",
    "    # Prepare training data by combining 4 train files\n",
    "    X_train_combined = []\n",
    "    y_train_combined = []\n",
    "    \n",
    "    for j in range(5):\n",
    "        if i != j:  # Exclude the i-th test file for training\n",
    "            train_data = pd.read_csv(train_files[j])\n",
    "            X_train_combined.append(train_data[['Age', ' Year', ' Positive']].values)\n",
    "            y_train_combined.append(train_data['Survival'].values)\n",
    "    \n",
    "    # Combine the training data from the 4 folds into one array\n",
    "    X_train_combined = np.vstack(X_train_combined)\n",
    "    y_train_combined = np.hstack(y_train_combined)\n",
    "    \n",
    "    # Load the test data (the i-th test file)\n",
    "    test_data = pd.read_csv(test_files[i])\n",
    "    X_test = test_data[['Age', ' Year', ' Positive']].values\n",
    "    y_test = test_data['Survival'].values\n",
    "    \n",
    "    # Naive Bayes model\n",
    "    model = GaussianNB()\n",
    "    model.fit(X_train_combined, y_train_combined)\n",
    "    \n",
    "    # Predict on the test data\n",
    "    y_pred = model.predict(X_test)\n",
    "    \n",
    "    # Calculate accuracy for this fold\n",
    "    accuracy = accuracy_score(y_test, y_pred)\n",
    "    accuracy_scores.append(accuracy)\n",
    "    \n",
    "    # Generate classification report for this fold\n",
    "    class_report = classification_report(y_test, y_pred, zero_division=0)\n",
    "    classification_reports.append(class_report)\n",
    "    \n",
    "    print(f'Fold {i + 1} Accuracy: {accuracy:.4f}')\n",
    "    print(f'Classification Report for Fold {i + 1}:\\n{class_report}')\n",
    "\n",
    "# Calculate mean accuracy across all folds\n",
    "mean_accuracy = np.mean(accuracy_scores)\n",
    "best_accuracy = max(accuracy_scores)\n",
    "best_fold = accuracy_scores.index(best_accuracy) + 1\n",
    "\n",
    "# Print summary of results\n",
    "print(\"\\n=== Cross-Validation Results ===\")\n",
    "for i in range(5):\n",
    "    print(f'Fold {i + 1} Accuracy: {accuracy_scores[i]:.4f}')\n",
    "print(f\"\\nAverage Accuracy across 5 folds: {mean_accuracy:.4f}\")\n",
    "print(f\"Best Accuracy achieved on Fold {best_fold}: {best_accuracy:.4f}\")\n",
    "\n",
    "# Optionally, display the classification report of the best fold\n",
    "print(f\"\\n=== Classification Report for Best Fold {best_fold} ===\")\n",
    "print(classification_reports[best_fold - 1])\n"
   ]
  }
 ],
 "metadata": {
  "kernelspec": {
   "display_name": "Python 3 (ipykernel)",
   "language": "python",
   "name": "python3"
  },
  "language_info": {
   "codemirror_mode": {
    "name": "ipython",
    "version": 3
   },
   "file_extension": ".py",
   "mimetype": "text/x-python",
   "name": "python",
   "nbconvert_exporter": "python",
   "pygments_lexer": "ipython3",
   "version": "3.9.12"
  }
 },
 "nbformat": 4,
 "nbformat_minor": 5
}
